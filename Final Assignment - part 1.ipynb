{
 "cells": [
  {
   "cell_type": "markdown",
   "metadata": {},
   "source": [
    "# Coursera Applied Machine Learning Final Assignment\n",
    "## Assignment 4 - Understanding and Predicting Property Maintenance Fines\n",
    "\n",
    "This assignment is based on a data challenge from the Michigan Data Science Team ([MDST](http://midas.umich.edu/mdst/)). \n",
    "\n",
    "The Michigan Data Science Team ([MDST](http://midas.umich.edu/mdst/)) and the Michigan Student Symposium for Interdisciplinary Statistical Sciences ([MSSISS](https://sites.lsa.umich.edu/mssiss/)) have partnered with the City of Detroit to help solve one of the most pressing problems facing Detroit - blight. [Blight violations](http://www.detroitmi.gov/How-Do-I/Report/Blight-Complaint-FAQs) are issued by the city to individuals who allow their properties to remain in a deteriorated condition. Every year, the city of Detroit issues millions of dollars in fines to residents and every year, many of these fines remain unpaid. Enforcing unpaid blight fines is a costly and tedious process, so the city wants to know: how can we increase blight ticket compliance?\n",
    "\n",
    "The first step in answering this question is understanding when and why a resident might fail to comply with a blight ticket. This is where predictive modeling comes in. For this assignment, your task is to predict whether a given blight ticket will be paid on time.\n",
    "\n",
    "All data for this assignment has been provided to us through the [Detroit Open Data Portal](https://data.detroitmi.gov/). **Only the data already included in your Coursera directory can be used for training the model for this assignment.** Nonetheless, we encourage you to look into data from other Detroit datasets to help inform feature creation and model selection. We recommend taking a look at the following related datasets:\n",
    "\n",
    "* [Building Permits](https://data.detroitmi.gov/datasets/building-permits?geometry=-83.753%2C42.265%2C-82.446%2C42.442)\n",
    "* [Trades Permits](https://data.detroitmi.gov/datasets/trades-permits?geometry=-83.753%2C42.265%2C-82.446%2C42.443)\n",
    "* [Improve Detroit: Submitted Issues](https://data.detroitmi.gov/datasets/improve-detroit-issues?geometry=-87.344%2C41.829%2C-82.117%2C42.541)\n",
    "* [DPD: Citizen Complaints](https://data.detroitmi.gov/datasets/dpd-citizen-complaints)\n",
    "* [Parcel Map](https://cityofdetroit.github.io/parcel-viewer/)\n",
    "\n",
    "___\n",
    "\n",
    "We provide you with two data files for use in training and validating your models: train.csv and test.csv. Each row in these two files corresponds to a single blight ticket, and includes information about when, why, and to whom each ticket was issued. The target variable is compliance, which is True if the ticket was paid early, on time, or within one month of the hearing data, False if the ticket was paid after the hearing date or not at all, and Null if the violator was found not responsible. Compliance, as well as a handful of other variables that will not be available at test-time, are only included in train.csv.\n",
    "\n",
    "Note: All tickets where the violators were found not responsible are not considered during evaluation. They are included in the training set as an additional source of data for visualization, and to enable unsupervised and semi-supervised approaches. However, they are not included in the test set.\n",
    "\n",
    "<br>\n",
    "\n",
    "**File descriptions** (Use only this data for training your model!)\n",
    "\n",
    "    readonly/train.csv - the training set (all tickets issued 2004-2011)\n",
    "    readonly/test.csv - the test set (all tickets issued 2012-2016)\n",
    "    readonly/addresses.csv & readonly/latlons.csv - mapping from ticket id to addresses, and from addresses to lat/lon coordinates. \n",
    "     Note: misspelled addresses may be incorrectly geolocated.\n",
    "\n",
    "<br>\n",
    "\n",
    "**Data fields**\n",
    "\n",
    "train.csv & test.csv\n",
    "\n",
    "    ticket_id - unique identifier for tickets\n",
    "    agency_name - Agency that issued the ticket\n",
    "    inspector_name - Name of inspector that issued the ticket\n",
    "    violator_name - Name of the person/organization that the ticket was issued to\n",
    "    violation_street_number, violation_street_name, violation_zip_code - Address where the violation occurred\n",
    "    mailing_address_str_number, mailing_address_str_name, city, state, zip_code, non_us_str_code, country - Mailing address of the violator\n",
    "    ticket_issued_date - Date and time the ticket was issued\n",
    "    hearing_date - Date and time the violator's hearing was scheduled\n",
    "    violation_code, violation_description - Type of violation\n",
    "    disposition - Judgment and judgement type\n",
    "    fine_amount - Violation fine amount, excluding fees\n",
    "    admin_fee - $20 fee assigned to responsible judgments\n",
    "state_fee - $10 fee assigned to responsible judgments\n",
    "    late_fee - 10% fee assigned to responsible judgments\n",
    "    discount_amount - discount applied, if any\n",
    "    clean_up_cost - DPW clean-up or graffiti removal cost\n",
    "    judgment_amount - Sum of all fines and fees\n",
    "    grafitti_status - Flag for graffiti violations\n",
    "    \n",
    "train.csv only\n",
    "\n",
    "    payment_amount - Amount paid, if any\n",
    "    payment_date - Date payment was made, if it was received\n",
    "    payment_status - Current payment status as of Feb 1 2017\n",
    "    balance_due - Fines and fees still owed\n",
    "    collection_status - Flag for payments in collections\n",
    "    compliance [target variable for prediction] \n",
    "     Null = Not responsible\n",
    "     0 = Responsible, non-compliant\n",
    "     1 = Responsible, compliant\n",
    "    compliance_detail - More information on why each ticket was marked compliant or non-compliant"
   ]
  },
  {
   "cell_type": "markdown",
   "metadata": {},
   "source": [
    "# INTRODUCTION\n",
    "\n",
    "In this project, we will create a predictive model to see whether blight violators in Detroit will comply and pay the fine or not.<br>\n",
    "In the training data, if the ticket was paid early, on time, or within one month of the hearing data the violators will be marked as **True** (1), if the ticket was paid after the hearing date or not at all the violators will be marked as **False** (0).\n",
    "<br><br>\n",
    "Several model/classifier and feature engineering will be performed in this project to be compared. The model that will be used are:\n",
    "1. Gradient Boosted Tree\n",
    "2. Random Forest\n",
    "3. SVC\n",
    "4. Naive Bayes Classifier\n",
    "\n",
    "Several metrices will also be used as the model assessment, however, the Area Under the ROC Curve (AUC) will be our main metric. List of metrices will be used:\n",
    "1. **Area under the ROC curve (AUC)**\n",
    "2. Confussion Matrix\n",
    "3. Precision, Recal, F1\n",
    "\n",
    "Before we start our modelling, first we need to take a quick look at our data"
   ]
  },
  {
   "cell_type": "markdown",
   "metadata": {},
   "source": [
    "# Data Wrangling\n",
    "\n",
    "In this stage, we will import the libraries and the dataset, then look at our data by these aspects:\n",
    "1. Completeness\n",
    "2. General information & general distribution\n",
    "\n",
    "And **prepare** it for our modelling purpose."
   ]
  },
  {
   "cell_type": "code",
   "execution_count": 1,
   "metadata": {},
   "outputs": [],
   "source": [
    "import pandas as pd\n",
    "import numpy as np\n",
    "import matplotlib.pyplot as plt"
   ]
  },
  {
   "cell_type": "code",
   "execution_count": 2,
   "metadata": {},
   "outputs": [],
   "source": [
    "train = pd.read_csv('train.csv', engine = 'python')\n",
    "test = pd.read_csv('test.csv')\n",
    "addresses = pd.read_csv('addresses.csv')\n",
    "latlons = pd.read_csv('latlons.csv')"
   ]
  },
  {
   "cell_type": "code",
   "execution_count": 3,
   "metadata": {},
   "outputs": [],
   "source": [
    "# Since there are no compliance data with NaN value in test data, \n",
    "# we will only use data which compliance has a value in the training data\n",
    "train = train[train['compliance'].notna()]"
   ]
  },
  {
   "cell_type": "markdown",
   "metadata": {},
   "source": [
    "## Completeness\n",
    "Check for missing value"
   ]
  },
  {
   "cell_type": "code",
   "execution_count": 4,
   "metadata": {
    "scrolled": true
   },
   "outputs": [
    {
     "name": "stdout",
     "output_type": "stream",
     "text": [
      "<class 'pandas.core.frame.DataFrame'>\n",
      "Int64Index: 159880 entries, 0 to 250293\n",
      "Data columns (total 34 columns):\n",
      "ticket_id                     159880 non-null int64\n",
      "agency_name                   159880 non-null object\n",
      "inspector_name                159880 non-null object\n",
      "violator_name                 159854 non-null object\n",
      "violation_street_number       159880 non-null float64\n",
      "violation_street_name         159880 non-null object\n",
      "violation_zip_code            0 non-null float64\n",
      "mailing_address_str_number    157322 non-null float64\n",
      "mailing_address_str_name      159877 non-null object\n",
      "city                          159880 non-null object\n",
      "state                         159796 non-null object\n",
      "zip_code                      159879 non-null object\n",
      "non_us_str_code               3 non-null object\n",
      "country                       159880 non-null object\n",
      "ticket_issued_date            159880 non-null object\n",
      "hearing_date                  159653 non-null object\n",
      "violation_code                159880 non-null object\n",
      "violation_description         159880 non-null object\n",
      "disposition                   159880 non-null object\n",
      "fine_amount                   159880 non-null float64\n",
      "admin_fee                     159880 non-null float64\n",
      "state_fee                     159880 non-null float64\n",
      "late_fee                      159880 non-null float64\n",
      "discount_amount               159880 non-null float64\n",
      "clean_up_cost                 159880 non-null float64\n",
      "judgment_amount               159880 non-null float64\n",
      "payment_amount                159880 non-null float64\n",
      "balance_due                   159880 non-null float64\n",
      "payment_date                  39611 non-null object\n",
      "payment_status                159880 non-null object\n",
      "collection_status             36897 non-null object\n",
      "grafitti_status               0 non-null object\n",
      "compliance_detail             159880 non-null object\n",
      "compliance                    159880 non-null float64\n",
      "dtypes: float64(13), int64(1), object(20)\n",
      "memory usage: 42.7+ MB\n",
      "None \n",
      "\n",
      "<class 'pandas.core.frame.DataFrame'>\n",
      "RangeIndex: 61001 entries, 0 to 61000\n",
      "Data columns (total 27 columns):\n",
      "ticket_id                     61001 non-null int64\n",
      "agency_name                   61001 non-null object\n",
      "inspector_name                61001 non-null object\n",
      "violator_name                 60973 non-null object\n",
      "violation_street_number       61001 non-null float64\n",
      "violation_street_name         61001 non-null object\n",
      "violation_zip_code            24024 non-null object\n",
      "mailing_address_str_number    59987 non-null object\n",
      "mailing_address_str_name      60998 non-null object\n",
      "city                          61000 non-null object\n",
      "state                         60670 non-null object\n",
      "zip_code                      60998 non-null object\n",
      "non_us_str_code               0 non-null float64\n",
      "country                       61001 non-null object\n",
      "ticket_issued_date            61001 non-null object\n",
      "hearing_date                  58804 non-null object\n",
      "violation_code                61001 non-null object\n",
      "violation_description         61001 non-null object\n",
      "disposition                   61001 non-null object\n",
      "fine_amount                   61001 non-null float64\n",
      "admin_fee                     61001 non-null float64\n",
      "state_fee                     61001 non-null float64\n",
      "late_fee                      61001 non-null float64\n",
      "discount_amount               61001 non-null float64\n",
      "clean_up_cost                 61001 non-null float64\n",
      "judgment_amount               61001 non-null float64\n",
      "grafitti_status               2221 non-null object\n",
      "dtypes: float64(9), int64(1), object(17)\n",
      "memory usage: 12.6+ MB\n",
      "None\n"
     ]
    }
   ],
   "source": [
    "print(train.info(),'\\n')\n",
    "print(test.info())"
   ]
  },
  {
   "cell_type": "markdown",
   "metadata": {},
   "source": [
    "As seen above, the train data have 2 columns that only have null value (*violation_zip_code* and *grafitti_status*) which in contrast have values in the test data. Unlike *grafitti_status* that may have information behind the null value (we will see this later), zip_code values varies rather widely, so we will drop this columns both in test and train set."
   ]
  },
  {
   "cell_type": "code",
   "execution_count": 5,
   "metadata": {},
   "outputs": [],
   "source": [
    "common_drop = ['violation_zip_code']\n",
    "\n",
    "train.drop(common_drop, axis=1, inplace=True)\n",
    "test.drop(common_drop, axis=1, inplace=True)"
   ]
  },
  {
   "cell_type": "code",
   "execution_count": 6,
   "metadata": {
    "scrolled": true
   },
   "outputs": [
    {
     "name": "stdout",
     "output_type": "stream",
     "text": [
      "<class 'pandas.core.frame.DataFrame'>\n",
      "RangeIndex: 311307 entries, 0 to 311306\n",
      "Data columns (total 2 columns):\n",
      "ticket_id    311307 non-null int64\n",
      "address      311307 non-null object\n",
      "dtypes: int64(1), object(1)\n",
      "memory usage: 4.8+ MB\n",
      "None \n",
      "\n",
      "<class 'pandas.core.frame.DataFrame'>\n",
      "RangeIndex: 121769 entries, 0 to 121768\n",
      "Data columns (total 3 columns):\n",
      "address    121769 non-null object\n",
      "lat        121762 non-null float64\n",
      "lon        121762 non-null float64\n",
      "dtypes: float64(2), object(1)\n",
      "memory usage: 2.8+ MB\n",
      "None\n"
     ]
    }
   ],
   "source": [
    "print(addresses.info(), '\\n')\n",
    "print(latlons.info())"
   ]
  },
  {
   "cell_type": "markdown",
   "metadata": {},
   "source": [
    "## General Information and Distribution\n",
    "\n",
    "In this stage, we will see the general information and distribution of the train and test dataset. We will use this information to understand our data better and to check features that may lead to **leakage**."
   ]
  },
  {
   "cell_type": "code",
   "execution_count": 7,
   "metadata": {
    "scrolled": true
   },
   "outputs": [
    {
     "name": "stdout",
     "output_type": "stream",
     "text": [
      "columns name and its number of unique value\n",
      "=========TRAIN==========\n",
      "ticket_id : 159880\n",
      "agency_name : 5\n",
      "inspector_name : 159\n",
      "violator_name : 84656\n",
      "violation_street_number : 18096\n",
      "violation_street_name : 1716\n",
      "mailing_address_str_number : 14090\n",
      "mailing_address_str_name : 28440\n",
      "city : 4093\n",
      "state : 59\n",
      "zip_code : 3498\n",
      "non_us_str_code : 2\n",
      "country : 5\n",
      "ticket_issued_date : 68097\n",
      "hearing_date : 5970\n",
      "violation_code : 189\n",
      "violation_description : 207\n",
      "disposition : 4\n",
      "fine_amount : 40\n",
      "admin_fee : 1\n",
      "state_fee : 1\n",
      "late_fee : 37\n",
      "discount_amount : 13\n",
      "clean_up_cost : 1\n",
      "judgment_amount : 57\n",
      "payment_amount : 522\n",
      "balance_due : 606\n",
      "payment_date : 2307\n",
      "payment_status : 3\n",
      "collection_status : 1\n",
      "grafitti_status : 0\n",
      "compliance_detail : 8\n",
      "compliance : 2\n",
      "=========TEST===========\n",
      "ticket_id : 61001\n",
      "agency_name : 3\n",
      "inspector_name : 116\n",
      "violator_name : 38515\n",
      "violation_street_number : 13999\n",
      "violation_street_name : 1477\n",
      "mailing_address_str_number : 9703\n",
      "mailing_address_str_name : 16851\n",
      "city : 3266\n",
      "state : 58\n",
      "zip_code : 2900\n",
      "non_us_str_code : 0\n",
      "country : 1\n",
      "ticket_issued_date : 33064\n",
      "hearing_date : 3312\n",
      "violation_code : 151\n",
      "violation_description : 163\n",
      "disposition : 8\n",
      "fine_amount : 53\n",
      "admin_fee : 1\n",
      "state_fee : 1\n",
      "late_fee : 44\n",
      "discount_amount : 14\n",
      "clean_up_cost : 298\n",
      "judgment_amount : 503\n",
      "grafitti_status : 1\n"
     ]
    }
   ],
   "source": [
    "print('columns name and its number of unique value')\n",
    "for j,k in zip([train, test], ['Train','Test']):\n",
    "    if k == 'Train':\n",
    "        print(\"=========TRAIN==========\")\n",
    "    else:\n",
    "        print(\"=========TEST===========\")\n",
    "    for i in j.columns:\n",
    "        print (i,\":\",j[i].nunique())"
   ]
  },
  {
   "cell_type": "markdown",
   "metadata": {},
   "source": [
    "### Potential Leakage\n",
    "As seen above, in the training data, there are several features that may lead to data leakage, namely:\n",
    "1. payment_amount\n",
    "2. balance_due\n",
    "3. payment_date\n",
    "4. payment_status\n",
    "5. collection_status\n",
    "6. compliance_detail\n",
    "\n",
    "These informations indicate whether or not the violators comply and pay the fine, so we need to separate these features from our train dataset. Also, for now, lets neglect the time features. However, this feature may be used if necessary."
   ]
  },
  {
   "cell_type": "code",
   "execution_count": 8,
   "metadata": {},
   "outputs": [],
   "source": [
    "#dropping fields that may lead to data leakage\n",
    "pot_leak = ['payment_amount','balance_due','payment_date','payment_status','collection_status','compliance_detail']\n",
    "time = ['ticket_issued_date', 'hearing_date']\n",
    "#dropping fields that not used in the training\n",
    "train = train.drop(pot_leak, axis=1)"
   ]
  },
  {
   "cell_type": "markdown",
   "metadata": {},
   "source": [
    "### Imbalance Dataset\n",
    "\n",
    "We will check the data distribution, to see whether or not the dataset we have is imbalance. <br>\n",
    "As shown below, the ratio of True and False compliance is way off, meaning the data is imbalanced. This imply that accuracy won't be a good metric to assess our model."
   ]
  },
  {
   "cell_type": "code",
   "execution_count": 9,
   "metadata": {},
   "outputs": [
    {
     "name": "stdout",
     "output_type": "stream",
     "text": [
      "Number of data with TRUE compliance value in train dataset: 11597\n",
      "Number of data with FALSE compliance value in train dataset: 148283\n",
      "TRUE to FALSE compliance status ratio: 0.078\n"
     ]
    }
   ],
   "source": [
    "# print(train['compliance'].unique())\n",
    "print(\"Number of data with TRUE compliance value in train dataset:\",len(train[train['compliance']==1]))\n",
    "print(\"Number of data with FALSE compliance value in train dataset:\",len(train[train['compliance']==0]))\n",
    "print(\"TRUE to FALSE compliance status ratio: {:.3f}\".format(len(train[train['compliance']==1])/len(train[train['compliance']==0])))"
   ]
  },
  {
   "cell_type": "markdown",
   "metadata": {},
   "source": [
    "## Data Preparation for Modelling purpose, Categorization\n",
    "\n",
    "For our modelling purpose, we will change the data type into categories"
   ]
  },
  {
   "cell_type": "code",
   "execution_count": 10,
   "metadata": {},
   "outputs": [
    {
     "data": {
      "text/plain": [
       "(159880, 61001, 220881, 220881)"
      ]
     },
     "execution_count": 10,
     "metadata": {},
     "output_type": "execute_result"
    }
   ],
   "source": [
    "# concatenating both dataframes for categorization\n",
    "df = pd.concat([train, test], sort = False).set_index('ticket_id')\n",
    "len(train), len(test), len(train)+len(test), len(df)"
   ]
  },
  {
   "cell_type": "code",
   "execution_count": 11,
   "metadata": {},
   "outputs": [],
   "source": [
    "cat_features = ['agency_name', 'inspector_name', 'violator_name', 'violation_street_name','mailing_address_str_name',\n",
    "               'city','state','non_us_str_code','country','violation_code','violation_description','disposition',\n",
    "               'grafitti_status', 'zip_code']\n",
    "for col in cat_features:\n",
    "    df[col] = df[col].astype('category') \n",
    "df[cat_features] = df[cat_features].apply(lambda x: x.cat.codes)"
   ]
  },
  {
   "cell_type": "code",
   "execution_count": 13,
   "metadata": {},
   "outputs": [
    {
     "data": {
      "text/plain": [
       "61001"
      ]
     },
     "execution_count": 13,
     "metadata": {},
     "output_type": "execute_result"
    }
   ],
   "source": [
    "# Splitting the dataframes back to test and train\n",
    "train = df.iloc[0:len(train),:]\n",
    "test = df.iloc[len(train):,:]\n",
    "test = test.drop('compliance', axis = 1)\n",
    "len(test)"
   ]
  },
  {
   "cell_type": "markdown",
   "metadata": {},
   "source": [
    "# Modelling Comparison"
   ]
  },
  {
   "cell_type": "markdown",
   "metadata": {},
   "source": [
    "## Using only 'money' fields to predict compliance\n",
    "\n",
    "We will see how predictive the 'money' fields in this case. We will use different classifier to check its consistency."
   ]
  },
  {
   "cell_type": "code",
   "execution_count": 14,
   "metadata": {},
   "outputs": [],
   "source": [
    "from sklearn.model_selection import train_test_split\n",
    "\n",
    "# these are the classifiers that will be used\n",
    "from sklearn.ensemble import GradientBoostingClassifier\n",
    "from sklearn.ensemble import RandomForestClassifier\n",
    "from sklearn.naive_bayes import GaussianNB\n",
    "from sklearn.svm import SVC\n",
    "\n",
    "# these are the metrices will be used\n",
    "from sklearn.metrics import roc_curve, auc\n",
    "from sklearn.metrics import confusion_matrix\n",
    "from sklearn.metrics import classification_report\n",
    "\n",
    "pd.options.display.max_columns = None"
   ]
  },
  {
   "cell_type": "markdown",
   "metadata": {},
   "source": [
    "Separate the 'money' fields to make it as our feature for the model. Make the train and validation set from the **train** data"
   ]
  },
  {
   "cell_type": "code",
   "execution_count": 15,
   "metadata": {},
   "outputs": [],
   "source": [
    "# prepare the money train and validation dataset from the the money columns\n",
    "\n",
    "money = ['fine_amount', 'admin_fee', 'state_fee', 'late_fee', 'discount_amount', 'clean_up_cost']\n",
    "money_Xtrain = train[money]\n",
    "# money_Xtrain.head()\n",
    "\n",
    "# prepare the target\n",
    "\n",
    "money_ytrain = train['compliance']\n",
    "# len(money_Xtrain), len(money_ytrain)\n",
    "\n",
    "X_train, X_test, y_train, y_test = train_test_split(money_Xtrain, money_ytrain, random_state=0)"
   ]
  },
  {
   "cell_type": "code",
   "execution_count": 16,
   "metadata": {},
   "outputs": [],
   "source": [
    "# prepare the money test dataset, in this case, since test data set doesn't provide the target,\n",
    "# this is better called as prediction dataset\n",
    "\n",
    "money_Xtest = test[money]\n",
    "# money_Xtest.head()"
   ]
  },
  {
   "cell_type": "markdown",
   "metadata": {},
   "source": [
    "### Apply different Models as Classifiers\n",
    "We will use the default settings of each classifiers and then check its performance with some metrics"
   ]
  },
  {
   "cell_type": "code",
   "execution_count": 17,
   "metadata": {},
   "outputs": [
    {
     "data": {
      "text/plain": [
       "GradientBoostingClassifier(criterion='friedman_mse', init=None,\n",
       "                           learning_rate=0.1, loss='deviance', max_depth=3,\n",
       "                           max_features=None, max_leaf_nodes=None,\n",
       "                           min_impurity_decrease=0.0, min_impurity_split=None,\n",
       "                           min_samples_leaf=1, min_samples_split=2,\n",
       "                           min_weight_fraction_leaf=0.0, n_estimators=100,\n",
       "                           n_iter_no_change=None, presort='auto',\n",
       "                           random_state=0, subsample=1.0, tol=0.0001,\n",
       "                           validation_fraction=0.1, verbose=0,\n",
       "                           warm_start=False)"
      ]
     },
     "execution_count": 17,
     "metadata": {},
     "output_type": "execute_result"
    }
   ],
   "source": [
    "# GRADIENT BOOSTED TREE\n",
    "gbc = GradientBoostingClassifier(random_state=0)\n",
    "gbc.fit(X_train, y_train)"
   ]
  },
  {
   "cell_type": "code",
   "execution_count": 26,
   "metadata": {},
   "outputs": [
    {
     "data": {
      "text/plain": [
       "RandomForestClassifier(bootstrap=True, class_weight=None, criterion='gini',\n",
       "                       max_depth=None, max_features='auto', max_leaf_nodes=None,\n",
       "                       min_impurity_decrease=0.0, min_impurity_split=None,\n",
       "                       min_samples_leaf=1, min_samples_split=2,\n",
       "                       min_weight_fraction_leaf=0.0, n_estimators=10,\n",
       "                       n_jobs=None, oob_score=False, random_state=0, verbose=0,\n",
       "                       warm_start=False)"
      ]
     },
     "execution_count": 26,
     "metadata": {},
     "output_type": "execute_result"
    }
   ],
   "source": [
    "# RANDOM FOREST\n",
    "rf = RandomForestClassifier(random_state=0, n_estimators = 10)\n",
    "rf.fit(X_train, y_train)"
   ]
  },
  {
   "cell_type": "code",
   "execution_count": 31,
   "metadata": {},
   "outputs": [
    {
     "data": {
      "text/plain": [
       "GaussianNB(priors=None, var_smoothing=1e-09)"
      ]
     },
     "execution_count": 31,
     "metadata": {},
     "output_type": "execute_result"
    }
   ],
   "source": [
    "# NAIVE BAYES\n",
    "gnb = GaussianNB()\n",
    "gnb.fit(X_train, y_train)"
   ]
  },
  {
   "cell_type": "code",
   "execution_count": 53,
   "metadata": {},
   "outputs": [
    {
     "data": {
      "text/plain": [
       "SVC(C=1.0, cache_size=200, class_weight=None, coef0=0.0,\n",
       "    decision_function_shape='ovr', degree=3, gamma='auto', kernel='rbf',\n",
       "    max_iter=-1, probability=True, random_state=0, shrinking=True, tol=0.001,\n",
       "    verbose=False)"
      ]
     },
     "execution_count": 53,
     "metadata": {},
     "output_type": "execute_result"
    }
   ],
   "source": [
    "# SVC\n",
    "svc = SVC(random_state=0, gamma = 'auto', probability = True)\n",
    "svc.fit(X_train, y_train)"
   ]
  },
  {
   "cell_type": "markdown",
   "metadata": {},
   "source": [
    "### Model assesment"
   ]
  },
  {
   "cell_type": "code",
   "execution_count": 54,
   "metadata": {},
   "outputs": [
    {
     "name": "stdout",
     "output_type": "stream",
     "text": [
      "GBC Confusion matrix:\n",
      "[[37063    15]\n",
      " [ 2599   293]]\n",
      "\n",
      "RF Confusion matrix:\n",
      "[[37063    15]\n",
      " [ 2599   293]]\n",
      "\n",
      "GNB Confusion matrix:\n",
      "[[37063    15]\n",
      " [ 2633   259]]\n",
      "\n",
      "GNB Confusion matrix:\n",
      "[[37063    15]\n",
      " [ 2600   292]]\n"
     ]
    }
   ],
   "source": [
    "confusion_gbc = confusion_matrix(y_test, gbc.predict(X_test))\n",
    "confusion_rf = confusion_matrix(y_test, rf.predict(X_test))\n",
    "confusion_gnb = confusion_matrix(y_test, gnb.predict(X_test))\n",
    "confusion_svc = confusion_matrix(y_test, svc.predict(X_test))\n",
    "print(\"GBC Confusion matrix:\\n{}\\n\".format(confusion_gbc))\n",
    "print(\"RF Confusion matrix:\\n{}\\n\".format(confusion_rf))\n",
    "print(\"GNB Confusion matrix:\\n{}\\n\".format(confusion_gnb))\n",
    "print(\"GNB Confusion matrix:\\n{}\".format(confusion_svc))"
   ]
  },
  {
   "cell_type": "code",
   "execution_count": 55,
   "metadata": {
    "scrolled": true
   },
   "outputs": [
    {
     "name": "stdout",
     "output_type": "stream",
     "text": [
      "GBC classification report\n",
      "               precision    recall  f1-score   support\n",
      "\n",
      "         0.0       0.93      1.00      0.97     37078\n",
      "         1.0       0.95      0.10      0.18      2892\n",
      "\n",
      "    accuracy                           0.93     39970\n",
      "   macro avg       0.94      0.55      0.57     39970\n",
      "weighted avg       0.94      0.93      0.91     39970\n",
      "\n",
      "RF classification report\n",
      "               precision    recall  f1-score   support\n",
      "\n",
      "         0.0       0.93      1.00      0.97     37078\n",
      "         1.0       0.95      0.10      0.18      2892\n",
      "\n",
      "    accuracy                           0.93     39970\n",
      "   macro avg       0.94      0.55      0.57     39970\n",
      "weighted avg       0.94      0.93      0.91     39970\n",
      "\n",
      "GNB classification report\n",
      "               precision    recall  f1-score   support\n",
      "\n",
      "         0.0       0.93      1.00      0.97     37078\n",
      "         1.0       0.95      0.09      0.16      2892\n",
      "\n",
      "    accuracy                           0.93     39970\n",
      "   macro avg       0.94      0.54      0.56     39970\n",
      "weighted avg       0.93      0.93      0.91     39970\n",
      "\n",
      "SVC classification report\n",
      "               precision    recall  f1-score   support\n",
      "\n",
      "         0.0       0.93      1.00      0.97     37078\n",
      "         1.0       0.95      0.10      0.18      2892\n",
      "\n",
      "    accuracy                           0.93     39970\n",
      "   macro avg       0.94      0.55      0.57     39970\n",
      "weighted avg       0.94      0.93      0.91     39970\n",
      "\n"
     ]
    }
   ],
   "source": [
    "print('GBC classification report\\n',classification_report(y_test, gbc.predict(X_test)))\n",
    "print('RF classification report\\n',classification_report(y_test, rf.predict(X_test)))\n",
    "print('GNB classification report\\n',classification_report(y_test, gnb.predict(X_test)))\n",
    "print('SVC classification report\\n',classification_report(y_test, svc.predict(X_test)))"
   ]
  },
  {
   "cell_type": "code",
   "execution_count": 56,
   "metadata": {},
   "outputs": [],
   "source": [
    "# ROC parameters for Gradient Boosted Tree\n",
    "fpr_gbc, tpr_gbc, thresholds_gbc = roc_curve(y_test, gbc.predict_proba(X_test)[:, 1])\n",
    "roc_auc_grd_gbc = auc(fpr_gbc, tpr_gbc)\n",
    "\n",
    "# ROC parameters for Random Forest\n",
    "fpr_rf, tpr_rf, thresholds_rf = roc_curve(y_test, rf.predict_proba(X_test)[:, 1])\n",
    "roc_auc_grd_rf = auc(fpr_rf, tpr_rf)\n",
    "\n",
    "# ROC parameters for Naive Bayes\n",
    "fpr_gnb, tpr_gnb, thresholds_gnb = roc_curve(y_test, gnb.predict_proba(X_test)[:, 1])\n",
    "roc_auc_grd_gnb = auc(fpr_gnb, tpr_gnb)\n",
    "\n",
    "# ROC parameters for SVC\n",
    "fpr_svc, tpr_svc, thresholds_svc = roc_curve(y_test, svc.predict_proba(X_test)[:, 1])\n",
    "roc_auc_grd_svc = auc(fpr_svc, tpr_svc)"
   ]
  },
  {
   "cell_type": "code",
   "execution_count": 68,
   "metadata": {},
   "outputs": [
    {
     "data": {
      "text/plain": [
       "<matplotlib.legend.Legend at 0x1d30da6e108>"
      ]
     },
     "execution_count": 68,
     "metadata": {},
     "output_type": "execute_result"
    },
    {
     "data": {
      "image/png": "[encoded data removed]",
      "text/plain": [
       "<Figure size 576x576 with 1 Axes>"
      ]
     },
     "metadata": {
      "needs_background": "light"
     },
     "output_type": "display_data"
    }
   ],
   "source": [
    "fig, ax = plt.subplots(figsize = (8,8))\n",
    "\n",
    "plt.plot(fpr_gnb, tpr_gnb, label=\"GNB ROC Curve RF (area = {:0.3f})\".format(roc_auc_grd_gnb), lw = 4)\n",
    "plt.plot(fpr_rf, tpr_rf, label=\"RF ROC Curve RF (area = {:0.3f})\".format(roc_auc_grd_rf), lw = 6)\n",
    "plt.plot(fpr_gbc, tpr_gbc, label=\"GBC ROC Curve RF (area = {:0.3f})\".format(roc_auc_grd_gbc), lw = 4)\n",
    "plt.plot(fpr_svc, tpr_svc, label=\"SVC ROC Curve RF (area = {:0.3f})\".format(roc_auc_grd_svc), lw = 4)\n",
    "plt.plot([0, 1], [0, 1], color='navy', lw=3, linestyle='--')\n",
    "\n",
    "plt.xlim([-0.01, 1.00])\n",
    "plt.ylim([-0.01, 1.01])\n",
    "plt.xlabel(\"FPR\", fontsize=16)\n",
    "plt.ylabel(\"TPR (recall)\", fontsize=16)\n",
    "plt.title('ROC curve Comparison\\nUsing only money field as feature', fontsize=18)\n",
    "plt.legend(loc=4)"
   ]
  },
  {
   "cell_type": "markdown",
   "metadata": {},
   "source": [
    "# Conclusion\n",
    "\n",
    "Without performing any preprocessing and parameter tuning, we see that from the 'money' fields, **Gradient Boosted Tree Classifier** performs best compared to other classifier (Random Forest, Gaussian Naive Bayes, and SVC). This is based on their ROC score, detailed as follows:\n",
    "\n",
    "1. GBC : 0.756\n",
    "2. RF  : 0.755\n",
    "3. GNB : 0.704\n",
    "4. SVC : 0.637\n",
    "\n",
    "GBC performs insignificantly better than RF, this is also consistent to their confussion matrix.<br>\n",
    "In this type of data, SVC perform the worst also in its runtime length. I also tried to rescale the data for the SVC, but the result is oddly even worse than the default SVC.\n",
    "<br><br>\n",
    "For the next part, we will dig more on feature engineering and parameter tuning to improve ROC score of the GBC"
   ]
  },
  {
   "cell_type": "code",
   "execution_count": null,
   "metadata": {},
   "outputs": [],
   "source": []
  }
 ],
 "metadata": {
  "kernelspec": {
   "display_name": "Python 3",
   "language": "python",
   "name": "python3"
  },
  "language_info": {
   "codemirror_mode": {
    "name": "ipython",
    "version": 3
   },
   "file_extension": ".py",
   "mimetype": "text/x-python",
   "name": "python",
   "nbconvert_exporter": "python",
   "pygments_lexer": "ipython3",
   "version": "3.7.4"
  }
 },
 "nbformat": 4,
 "nbformat_minor": 2
}
